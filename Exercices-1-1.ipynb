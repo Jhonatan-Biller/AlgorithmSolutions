{
 "cells": [
  {
   "cell_type": "markdown",
   "id": "73104e35-421d-45f7-9fc8-812d251a4748",
   "metadata": {},
   "source": [
    "<hr>\n",
    "\n",
    "<h2>Exercices 1.1</h2>\n",
    "\n",
    "<hr>"
   ]
  },
  {
   "cell_type": "markdown",
   "id": "18b54f76-fb1a-46b3-9432-884d9060219f",
   "metadata": {},
   "source": [
    "<b>4.</b> Design an algorithm for computing $\\left \\lfloor \\sqrt{n} \\right \\rfloor$ for any positive integer $n$. Besides assignment and comparison, your algorithm may only use the four basic arithmetical operations."
   ]
  },
  {
   "cell_type": "code",
   "execution_count": 1,
   "id": "a7b9d8bf-8384-4abb-8609-990c0a3071a4",
   "metadata": {},
   "outputs": [
    {
     "data": {
      "text/plain": [
       "5"
      ]
     },
     "execution_count": 1,
     "metadata": {},
     "output_type": "execute_result"
    }
   ],
   "source": [
    "def floor_sqrt(n):\n",
    "    \n",
    "    if n < 0:\n",
    "        raise ValueError(\"Cannot compute the square root of a negative number.\")\n",
    "    \n",
    "    if n == 0 or n == 1:\n",
    "        return n\n",
    "    \n",
    "    low, high = 1, n\n",
    "    result = 0\n",
    "    \n",
    "    while low <= high:\n",
    "        \n",
    "        mid = (low + high) // 2\n",
    "        mid_squared = mid * mid\n",
    "        \n",
    "        if mid_squared == n:\n",
    "            return mid\n",
    "            \n",
    "        elif mid_squared < n:\n",
    "            low = mid + 1\n",
    "            result = mid\n",
    "            \n",
    "        else:\n",
    "            high = mid - 1\n",
    "    \n",
    "    return result\n",
    "\n",
    "\n",
    "floor_sqrt(26)"
   ]
  },
  {
   "cell_type": "markdown",
   "id": "2954cd5f-1b65-4c82-81de-9116059de0d1",
   "metadata": {},
   "source": [
    "<hr>\n",
    "\n",
    "<b>5.</b> Design an algorithm to find all the common elements in two sorted lists of\n",
    "numbers. For example, for the lists 2, 5, 5, 5 and 2, 2, 3, 5, 5, 7, the output\n",
    "should be 2, 5, 5. What is the maximum number of comparisons your algorithm\n",
    "makes if the lengths of the two given lists are m and n, respectively?"
   ]
  },
  {
   "cell_type": "code",
   "execution_count": 2,
   "id": "92f648e8-edd7-4cf2-b837-d156e869f513",
   "metadata": {},
   "outputs": [
    {
     "data": {
      "text/plain": [
       "[2, 5, 5]"
      ]
     },
     "execution_count": 2,
     "metadata": {},
     "output_type": "execute_result"
    }
   ],
   "source": [
    "def common_elements(va,vb):\n",
    "\n",
    "    res  = []\n",
    "    \n",
    "    if len(va) == 0 or len(vb) == 0:\n",
    "        \n",
    "        return res\n",
    "\n",
    "    id = []\n",
    "\n",
    "    for a in va:\n",
    "\n",
    "        for j in range(0,len(vb)):\n",
    "\n",
    "            if a == vb[j] and j not in id:\n",
    "\n",
    "                id  += [j]\n",
    "                res += [a]\n",
    "                break\n",
    "    return res\n",
    "            \n",
    "a = [2,5,5,5]  \n",
    "b = [2,2,3,5,5,7]\n",
    "\n",
    "common_elements(a,b) # Returns [2, 5, 5]"
   ]
  },
  {
   "cell_type": "markdown",
   "id": "add60421-63fd-4e6a-b253-e585b19a827b",
   "metadata": {},
   "source": [
    "\n",
    "$$ n + n + \\dots + n \\ ( m \\ \\text{ times } ) \\Rightarrow \\text{Iterations}=m \\times n$$"
   ]
  },
  {
   "cell_type": "markdown",
   "id": "f0aa71a3-b63c-4ab9-bfa6-ac1b169aef08",
   "metadata": {},
   "source": [
    "<hr>\n",
    "\n",
    "<b>6.a.</b> Find $\\text{gcd}(31415, 14142)$ by applying Euclid’s algorithm."
   ]
  },
  {
   "cell_type": "code",
   "execution_count": 3,
   "id": "bd6d9745-679f-43d1-92fa-f9ec719a3fa1",
   "metadata": {},
   "outputs": [
    {
     "data": {
      "text/plain": [
       "1"
      ]
     },
     "execution_count": 3,
     "metadata": {},
     "output_type": "execute_result"
    }
   ],
   "source": [
    "def euclid(m,n):\n",
    "    \n",
    "    n_iter = 0\n",
    "    \n",
    "    while n != 0:\n",
    "    \n",
    "        r       = m % n\n",
    "        m       = n\n",
    "        n       = r\n",
    "        n_iter += 1\n",
    "\n",
    "    return m, n_iter\n",
    "            \n",
    "euclid(31415,14142)[0] # Returns 1, iterations 10"
   ]
  },
  {
   "cell_type": "markdown",
   "id": "671dd1dd-d853-48f0-9a67-a5c2402e669e",
   "metadata": {},
   "source": [
    "<hr>\n",
    "<b>6.b.</b> Estimate how many times faster it will be to find gcd$(31415, 14142)$ by Euclid’s algorithm compared with the algorithm based on checking consecutive integers from min$\\{m, n\\}$ down to gcd$(m, n)$."
   ]
  },
  {
   "cell_type": "code",
   "execution_count": 4,
   "id": "575f998a-d80b-4051-98d1-b2248b87c0cf",
   "metadata": {},
   "outputs": [
    {
     "name": "stdout",
     "output_type": "stream",
     "text": [
      "Iterations: 14142\n"
     ]
    },
    {
     "data": {
      "text/plain": [
       "1"
      ]
     },
     "execution_count": 4,
     "metadata": {},
     "output_type": "execute_result"
    }
   ],
   "source": [
    "def checagem_de_inteiro_consec(m,n):\n",
    "\n",
    "    t  = min(m,n)\n",
    "    it = 0\n",
    "    \n",
    "    while True:\n",
    "        it += 1\n",
    "        if m % t == 0 and n % t == 0:\n",
    "            print('Iterations:',it)\n",
    "            return t\n",
    "\n",
    "        else:\n",
    "            t -= 1\n",
    "\n",
    "checagem_de_inteiro_consec(31415,14142) # Retorna 1, Total de iterações 14142"
   ]
  },
  {
   "cell_type": "markdown",
   "id": "9ac4eef6-10ad-4a07-b847-dff343b535ba",
   "metadata": {},
   "source": [
    "The difference in efficiency can be estimated by the ratio of the complexities of the algorithms:\n",
    "<ul>\n",
    "    <li>Euclidean Algorithm: $O(\\log(\\min(m,n)))$;</li>\n",
    "    <li>Consecutive Integer Checking Algorithm: $O(\\min(m,n))$.</li>\n",
    "</ul>\n",
    "\n",
    "For the values $m=31415$ and $n=14142$:\n",
    "<ul>\n",
    "    <li>$O(\\log_2(\\min(31415,14142))) \\approx 14$;</li>\n",
    "    <li>$O(\\min(31415,14142))$ results in 14142 iterations in the worst case.</li>\n",
    "</ul>\n",
    "\n",
    "The ratio between the complexities of the algorithms can be seen as a direct comparison of their terms:\n",
    "\n",
    "$$\\frac{O(min⁡(m,n))}{O(log⁡(min⁡(m,n)))} \\approx \\frac{14142}{14} \\approx 1000$$\n",
    "\n",
    "This means that, for the given values, the Consecutive Integer Checking Algorithm is approximately 1000 times slower than the Euclidean Algorithm.\n",
    "\n",
    "\n",
    "<hr>"
   ]
  },
  {
   "cell_type": "markdown",
   "id": "2696ce05-1dbe-45c2-8128-a8cbadcf3119",
   "metadata": {},
   "source": [
    "<b>7.</b> Prove the equality gcd$(m, n) =$ gcd$(n, m \\ \\text{mod} \\ n)$ for every pair of positive\n",
    "integers $m$ and $n$.\n",
    "\n",
    "<b>Pf.:</b>\n",
    "\n",
    "\n",
    "Suponha que, $$ d = \\text{mdc}(m,n).$$\n",
    "\n",
    "Por definição, $$ \\exists k,l \\in \\mathbb{Z} : m=dk, n=dl. \\tag{1}$$\n",
    "\n",
    "Partindo de $m \\ \\text{mod} \\ n$, $$ r = m \\ \\text{mod} \\ n \\Rightarrow m = qn + r. \\tag{2}$$\n",
    "\n",
    "Substituindo (1) em (2) : $$ m = qn + r \\Rightarrow (dk) = q(dl) + r\\Rightarrow r = dk - qdl \\Rightarrow r = d(k-ql).$$\n",
    "\n",
    "Portanto, $d$ divide $r$, i.e., $d$ divide $m \\ \\text{mod} \\ n.$ \n",
    "\n",
    "Por outro lado, seja\n",
    "\n",
    "$$ d' = \\text{mdc}(n, m \\ \\text{mod} \\ n).$$\n",
    "\n",
    "Por definição, $$ d' | n  \\ \\text{e} \\  d'|(m \\ \\text{mod}\\ n).$$\n",
    "\n",
    "Sabe-se que $ m = qn + (m \\ \\text{mod}\\ n)$. Uma vez que $d'|n$ e $d'|(m \\ \\text{mod}\\ n)$, $d'$ divide qualquer combinação linear de $n$ e $m \\ \\text{mod}\\ n$, incluindo $m$. <b>Logo, $d'$ é um divisor comum entre $m$ e $n$</b>.\n",
    "\n",
    "Como\n",
    "\n",
    "$$ d=\\text{mdc}(m,n) \\Rightarrow d' \\leq d,$$\n",
    "\n",
    "e $d$ é divisor comum entre $n$ e $m \\ \\text{mod}\\ n \\Rightarrow d \\leq d'.$ <b>Assim, $d=d'$</b>.\n",
    "\n",
    "Portanto, gcd$(m, n) =$ gcd$(n, m \\ \\text{mod} \\ n)$\n",
    "$\\blacksquare$"
   ]
  },
  {
   "cell_type": "markdown",
   "id": "fe1e3d42-4995-4ee5-a477-6200cf7796c5",
   "metadata": {},
   "source": [
    "<hr>\n",
    "<b>9.a.</b> What is the minimum number of divisions made by Euclid’s algorithm\n",
    "among all inputs $1 \\leq m$, $n \\leq 10$?\n",
    "<br><br>\n",
    " The minimum number of divisions made by Euclid’s algorithm occurs when $m$ is a multiple of $n$. In this case, the algorithm completes in exactly one division.\n",
    "\n",
    "<hr>\n",
    "\n",
    "<b>9.b.</b> What is the maximum number of divisions made by Euclid’s algorithm\n",
    "among all inputs $1 \\leq m$, $n \\leq 10$?\n"
   ]
  },
  {
   "cell_type": "code",
   "execution_count": 5,
   "id": "d7fa702b-8612-4edf-bbf8-9ba3ef237f90",
   "metadata": {},
   "outputs": [
    {
     "name": "stdout",
     "output_type": "stream",
     "text": [
      "4\n"
     ]
    }
   ],
   "source": [
    "N = []\n",
    "\n",
    "for i in range(1,10+1):\n",
    "    \n",
    "    for j in range(1,i+1):\n",
    "\n",
    "        N.append(euclid(i,j)[1])\n",
    "        \n",
    "print(max(N)) # Maximum number of divisions | Returns 4"
   ]
  },
  {
   "cell_type": "markdown",
   "id": "f0f569b1-c0b4-4781-ac2c-2948e2c22882",
   "metadata": {},
   "source": [
    "<hr>\n",
    "<b>10.a</b> Euclid’s algorithm, as presented in Euclid’s treatise, uses subtractions\n",
    "rather than integer divisions. Write pseudocode for this version of Euclid’s\n",
    "algorithm."
   ]
  },
  {
   "cell_type": "markdown",
   "id": "4cdc65fd-eef1-4555-ab7d-48cd98b3eb2a",
   "metadata": {},
   "source": [
    "```python\n",
    "while a ≠ b:\n",
    "    if a > b:\n",
    "        a = a - b\n",
    "    else:\n",
    "        b = b - a\n",
    "\n",
    "```"
   ]
  },
  {
   "cell_type": "markdown",
   "id": "9188efca-190c-493f-82bb-6349bdee3f5b",
   "metadata": {},
   "source": [
    "<hr>\n",
    "<b>10.b</b> Euclid’s game (see [Bog]) starts with two unequal positive integers on the\n",
    "board. Two players move in turn. On each move, a player has to write on\n",
    "the board a positive number equal to the difference of two numbers already\n",
    "on the board; this number must be new, i.e., different from all the numbers\n",
    "already on the board. The player who cannot move loses the game. Should\n",
    "you choose to move first or second in this game?\n",
    "\n",
    "<br>\n",
    "Ans.: you should generally prefer to move first in Euclid’s game. The reason is that as the game evolves, the first player often has more control over the initial set of moves and can force the opponent into less advantageous positions as the number of possible moves decreases. (This game is arealdy solved, given $a$ and $b$ where $a=kb$ the first player wins)."
   ]
  },
  {
   "cell_type": "markdown",
   "id": "3b6f06b5-18bb-406a-8ec5-0441fb569691",
   "metadata": {},
   "source": [
    "<hr>\n",
    "<b>11.a The extended Euclid’s algorithm</b> determines not only the greatest common\n",
    "divisor $d$ of two positive integers $m$ and $n$ but also integers (not necessarily\n",
    "positive) $x$ and $y$, such that $mx + ny = d$. Look up a description of the extended Euclid’s algorithm and implement it in the language of your choice."
   ]
  },
  {
   "cell_type": "markdown",
   "id": "4f71af13-9cb9-44f9-9941-28beef2a75ce",
   "metadata": {},
   "source": [
    "(<a href=\"https://brilliant.org/wiki/extended-euclidean-algorithm/\">Click to see reference</a>) The extended Euclidean algorithm is an algorithm to compute integers $x$ and $y$ such that\n",
    "\n",
    "$$ax+by=\\text{gcd}⁡(a,b)$$\n",
    "\n",
    "given $a$ and $b$.\n",
    "\n",
    "The existence of such integers is guaranteed by Bézout's lemma.\n",
    "\n",
    "(Bézout's lemma) For nonzero integers $a$ and $b$, let $d$ be the greatest common divisor $d=\\text{gcd}⁡(a,b)$. Then, there exist integers $x$ and $y$ such that\n",
    "\n",
    "$$ax+by=d.$$"
   ]
  },
  {
   "cell_type": "code",
   "execution_count": 6,
   "id": "f3d76066-8d09-454a-a1c6-78b1cf64203d",
   "metadata": {},
   "outputs": [],
   "source": [
    "def extended_gcd(a,b):\n",
    "    \n",
    "    s = 0; old_s = 1\n",
    "    t = 1; old_t = 0\n",
    "    r = b; old_r = a\n",
    "\n",
    "    while r != 0:\n",
    "        \n",
    "        div = old_r // r\n",
    "        (old_r,r) = (r, old_r - div * r)\n",
    "        (old_s,s) = (s, old_s - div * s)\n",
    "        (old_t,t) = (t, old_t - div * t)\n",
    "    \n",
    "    print('Bézout coefficients (x,y):', (old_s, old_t))\n",
    "    print('Greatest common divisor:', old_r)\n",
    "    print('Quotients by the gcd:', (t,s))\n",
    "\n",
    "    return old_s,old_t, old_r"
   ]
  },
  {
   "cell_type": "markdown",
   "id": "2d3efecf-b30e-4886-bcff-9c71c7f7b16d",
   "metadata": {},
   "source": [
    "<font color=\"gray\"> <b>Example:</b></font> Find the value of $x$ and $y$ for the following equation: \n",
    "$$1432x+123211y=\\text{gcd}(1432,123211). $$"
   ]
  },
  {
   "cell_type": "code",
   "execution_count": 7,
   "id": "7d0a3280-4f05-4fcb-84ad-b90aeb1142fa",
   "metadata": {},
   "outputs": [
    {
     "name": "stdout",
     "output_type": "stream",
     "text": [
      "Bézout coefficients (x,y): (-22973, 267)\n",
      "Greatest common divisor: 1\n",
      "Quotients by the gcd: (-1432, 123211)\n"
     ]
    },
    {
     "data": {
      "text/plain": [
       "(-22973, 267, 1)"
      ]
     },
     "execution_count": 7,
     "metadata": {},
     "output_type": "execute_result"
    }
   ],
   "source": [
    "extended_gcd(1432,123211)"
   ]
  },
  {
   "cell_type": "markdown",
   "id": "c94ea287-5749-4d9b-8575-a29e5979b9a5",
   "metadata": {},
   "source": [
    "<hr>\n",
    "<b>11.b</b> Modify your program to find integer solutions to the Diophantine equation $ax + by = c$ with any set of integer coefficients $a$, $b$, and $c$.<br>\n",
    "<a href='https://brilliant.org/wiki/bezouts-identity/'>(Click to see reference)</a>"
   ]
  },
  {
   "cell_type": "code",
   "execution_count": 8,
   "id": "23010d63-b656-490a-bc9c-f09504a7db27",
   "metadata": {
    "editable": true,
    "slideshow": {
     "slide_type": ""
    },
    "tags": []
   },
   "outputs": [
    {
     "name": "stdout",
     "output_type": "stream",
     "text": [
      "Bézout coefficients (x,y): (1, 0)\n",
      "Greatest common divisor: 1\n",
      "Quotients by the gcd: (1, -10)\n",
      "Particular solution (x0,y0) = (5.0,0.0)\n",
      "General solution:\n",
      "x = 5.0 + k*10\n",
      "y = 0.0 - k*1\n"
     ]
    },
    {
     "data": {
      "text/plain": [
       "(5.0, 0.0)"
      ]
     },
     "execution_count": 8,
     "metadata": {},
     "output_type": "execute_result"
    }
   ],
   "source": [
    "def diophantine(a,b,c):\n",
    "\n",
    "    x, y, d = extended_gcd(a,b)\n",
    "    \n",
    "    if c % d != 0:\n",
    "        print(\"No solutions exist for the given coefficients.\")\n",
    "        return None\n",
    "    \n",
    "    k = c/d\n",
    "\n",
    "    x = k*x\n",
    "    y = k*y\n",
    "\n",
    "    x_general = 'x = {} + k*{}'.format(x, b // d)\n",
    "    y_general = 'y = {} - k*{}'.format(y, a // d)\n",
    "    \n",
    "    print('Particular solution (x0,y0) = ({},{})'.format(x,y))\n",
    "    print('General solution:')\n",
    "    print(x_general)\n",
    "    print(y_general)\n",
    "    \n",
    "    return x, y\n",
    "\n",
    "diophantine(1,10,5) # Example 1x+10y=5"
   ]
  },
  {
   "cell_type": "code",
   "execution_count": 9,
   "id": "d4ed7ecf-480e-48a0-b41f-eb3774be6df0",
   "metadata": {},
   "outputs": [],
   "source": [
    "# Integer solutions\n",
    "def integer_sol(vk):\n",
    "    px = []\n",
    "    py = []\n",
    "    for k in vk:\n",
    "        px.append(5+k*10)\n",
    "        py.append(0-k*1 )\n",
    "    return px,py"
   ]
  },
  {
   "cell_type": "code",
   "execution_count": 10,
   "id": "d33e691c-123e-4df4-9c2f-2c447d5c8700",
   "metadata": {},
   "outputs": [
    {
     "data": {
      "image/png": "[encoded data removed]",
      "text/plain": [
       "<Figure size 400x300 with 1 Axes>"
      ]
     },
     "metadata": {},
     "output_type": "display_data"
    }
   ],
   "source": [
    "import matplotlib.pyplot as plt\n",
    "import numpy as np\n",
    "\n",
    "\n",
    "x = np.linspace(-20, 30, 400)\n",
    "y = 5/10-x/10\n",
    "\n",
    "pts = integer_sol([-2,-1,0,1,2])\n",
    "\n",
    "plt.figure(figsize=(4, 3))\n",
    "plt.plot(x, y, label='$1x+10y=5$', color='blue')\n",
    "plt.scatter(pts[0],pts[1], color='red', zorder=5, label='Integer solutions')\n",
    "plt.title('Curve $1x+10y=5$') \n",
    "plt.grid(True)  \n",
    "plt.legend()  \n",
    "plt.show() "
   ]
  },
  {
   "cell_type": "markdown",
   "id": "0d246f96-2020-4d9c-a734-7671781586a5",
   "metadata": {},
   "source": [
    "<hr>\n",
    "<b>12. <i>Locker doors</i></b> There are $n$ lockers in a hallway, numbered sequentially from\n",
    "$1$ to $n$. Initially, all the locker doors are closed. You make $n$ passes by the\n",
    "lockers, each time starting with locker #1. On the ith pass, $i = 1, 2, \\dots , n$, you\n",
    "toggle the door of every ith locker: if the door is closed, you open it; if it is\n",
    "open, you close it. After the last pass, which locker doors are open and which\n",
    "are closed? How many of them are open?"
   ]
  },
  {
   "cell_type": "markdown",
   "id": "5ab57fb1-84f1-46e0-8630-cac72c276679",
   "metadata": {},
   "source": [
    "Pattern:<br>\n",
    "[0]_______ $\\Rightarrow$ [1]<br> \n",
    "[0,0]_____ $\\Rightarrow$ [1,1]____ $\\Rightarrow$ [0,1]<br>\n",
    "[0,0,0]___ $\\Rightarrow$ [1,1,1]___ $\\Rightarrow$ [1,0,1]____ $\\Rightarrow$ [1,0,0]<br> \n",
    "[0,0,0,0]__ $\\Rightarrow$ [1,1,1,1]_ $\\Rightarrow$ [1,0,1,0]__ $\\Rightarrow$ [1,0,0,0]__ $\\Rightarrow$ [1,0,0,1]<br> \n",
    "[0,0,0,0,0] $\\Rightarrow$ [1,1,1,1,1] $\\Rightarrow$ [1,0,1,0,1]. $\\Rightarrow$ [1,0,0,0,1] $\\Rightarrow$ [1,0,0,1,1] $\\Rightarrow$ [1,0,0,1,0] <br> \n",
    "\n",
    "The number of open doors is $\\left \\lfloor \\sqrt{n} \\right \\rfloor$:"
   ]
  },
  {
   "cell_type": "code",
   "execution_count": 11,
   "id": "52dcfbfb-da8d-489a-92ca-ec698e33db3b",
   "metadata": {},
   "outputs": [
    {
     "name": "stdout",
     "output_type": "stream",
     "text": [
      "Número de portas abertas: 2\n",
      "Número de portas fechadas: 2\n"
     ]
    }
   ],
   "source": [
    "n      = 4 \n",
    "n_open = floor_sqrt(n) \n",
    "n_clos = n - n_open\n",
    "\n",
    "print('Número de portas abertas:' ,n_open)\n",
    "print('Número de portas fechadas:',n_clos)"
   ]
  },
  {
   "cell_type": "code",
   "execution_count": 12,
   "id": "df00a33e-51b7-4423-99c9-a1831e1977b6",
   "metadata": {},
   "outputs": [
    {
     "name": "stdout",
     "output_type": "stream",
     "text": [
      "Lockers: [1, 0, 0, 1, 0]\n",
      "Opened lockers: [1, 4]. Closed lockers: [2, 3, 5].\n"
     ]
    }
   ],
   "source": [
    "def locker(n):\n",
    "\n",
    "    closed = []\n",
    "    opened = []\n",
    "    loc    = [0]*n\n",
    "\n",
    "    for k in range(1,n+1):\n",
    "    \n",
    "        for i in range(0,n):\n",
    "            \n",
    "            if (i+1) % k  == 0:\n",
    "\n",
    "               if  loc[i] == 0:\n",
    "                   loc[i] =  1\n",
    "               else:\n",
    "                   loc[i] =  0\n",
    "    \n",
    "    for i in range(0,len(loc)):\n",
    "\n",
    "        if loc[i] == 0:\n",
    "            closed.append(i+1)\n",
    "        else:\n",
    "            opened.append(i+1)\n",
    "    \n",
    "    print('Lockers:',loc)\n",
    "    return closed, opened\n",
    "    \n",
    "n = 5\n",
    "res = locker(n)\n",
    "print('Opened lockers: {}. Closed lockers: {}.'.format(res[1],res[0]))"
   ]
  },
  {
   "cell_type": "markdown",
   "id": "6fc3b93b-7feb-4690-a04a-56a69b986690",
   "metadata": {},
   "source": [
    "<hr>\n",
    "<b>A1. (Additional)</b> Sieve of Erastosthenes."
   ]
  },
  {
   "cell_type": "code",
   "execution_count": 13,
   "id": "59d18ae4-5fc1-4217-98b6-666e83a27e30",
   "metadata": {},
   "outputs": [
    {
     "name": "stdout",
     "output_type": "stream",
     "text": [
      "[2, 3, 5, 7, 11, 13, 17, 19, 23]\n",
      "[2, 3, 5, 7, 11, 13, 17, 19, 23]\n"
     ]
    }
   ],
   "source": [
    "from math import floor, sqrt\n",
    "\n",
    "#Book sieve implementation\n",
    "def sieve_book(n):\n",
    "\n",
    "    A = list(range(2, n + 1))\n",
    "    \n",
    "    L = []\n",
    "    \n",
    "    for p in range(2,floor(sqrt(A[-1]))+1):\n",
    "        \n",
    "        if A[p] != 0:\n",
    "            \n",
    "            j = p*p\n",
    "            \n",
    "            while j <= n:\n",
    "                \n",
    "                A[j-2] = 0\n",
    "                j      = j + p\n",
    "\n",
    "    for Ai in A:\n",
    "\n",
    "        if Ai != 0:\n",
    "\n",
    "            L.append(Ai)\n",
    "    \n",
    "    return L\n",
    "\n",
    "print(sieve_book(25)) # Returns [2, 3, 5, 7, 11, 13, 17, 19, 23]\n",
    "\n",
    "# My ideia to sieve function. Of course isn't otimizes and do more loops than book solution\n",
    "def sieve(n):\n",
    "\n",
    "    v   = list(range(2,n+1))\n",
    "\n",
    "    res = v\n",
    "\n",
    "    for p in range(2,floor(sqrt(max(v)))+1):\n",
    "\n",
    "        for vi in v:\n",
    "\n",
    "            if vi % p == 0 and vi != p:\n",
    "\n",
    "                res.remove(vi)\n",
    "    return res\n",
    "\n",
    "print(sieve(25)) # Returns [2, 3, 5, 7, 11, 13, 17, 19, 23]"
   ]
  }
 ],
 "metadata": {
  "kernelspec": {
   "display_name": "Python 3 (ipykernel)",
   "language": "python",
   "name": "python3"
  },
  "language_info": {
   "codemirror_mode": {
    "name": "ipython",
    "version": 3
   },
   "file_extension": ".py",
   "mimetype": "text/x-python",
   "name": "python",
   "nbconvert_exporter": "python",
   "pygments_lexer": "ipython3",
   "version": "3.10.12"
  }
 },
 "nbformat": 4,
 "nbformat_minor": 5
}
